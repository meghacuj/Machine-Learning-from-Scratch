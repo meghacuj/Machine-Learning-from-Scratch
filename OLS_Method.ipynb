{
 "cells": [
  {
   "cell_type": "markdown",
   "id": "d8f226d7",
   "metadata": {},
   "source": [
    "Linear Regression using OLS method:\n",
    "    The Ordinary Least Squares (OLS) method is an algorithm used in linear regression analysis.where,we obtain a single slope       (m) and a single intercept (b). \n",
    "    These coefficients describe the best-fit line through the data, which minimizes the sum of the squared differences between       the observed values and the values predicted by the line i,e Cost/Loss function and we ultimately get a best fit line. \n",
    "    For Simple Linear Regression, we get one \"m\" and one intercept \"b\", whereas, in multiple linear Regression, we get one slope corresponding to each features but only one intercept. "
   ]
  },
  {
   "cell_type": "markdown",
   "id": "905c2003",
   "metadata": {},
   "source": [
    "## Simple Linear Regression (OLS Method)"
   ]
  },
  {
   "cell_type": "markdown",
   "id": "63dbdd28",
   "metadata": {},
   "source": [
    "Ler's take a very simple data,it contains one independent and one dependent variable.\"study_hr\" and \"score\". "
   ]
  },
  {
   "cell_type": "code",
   "execution_count": 1,
   "id": "10322c00",
   "metadata": {},
   "outputs": [],
   "source": [
    "import pandas as pd\n",
    "import numpy as np\n",
    "\n",
    "from sklearn.model_selection import train_test_split\n",
    "import warnings\n",
    "warnings.filterwarnings(\"ignore\")\n",
    "\n",
    "%matplotlib inline\n"
   ]
  },
  {
   "cell_type": "code",
   "execution_count": 2,
   "id": "112f84f6",
   "metadata": {},
   "outputs": [],
   "source": [
    "data= pd.DataFrame({\"study_hr\": [3, 5, 2, 7, 4, 6, 1, 3, 5, 4],\"score\": [75, 82, 69, 88, 78, 85, 62, 72, 80, 76]})"
   ]
  },
  {
   "cell_type": "markdown",
   "id": "0d6551fe",
   "metadata": {},
   "source": [
    "The Ordinary Least Squares (OLS) method aims to minimize the loss function, which represents the error between the actual data points and the points predicted by the linear model. This error, also known as the residual, is the difference between the actual values and the values on the predicted straight line. By minimizing the sum of the squared residuals, the OLS method finds the optimal slope (m) and intercept (b) of the line. These parameters define the best-fitting straight line for the given data, which can then be used to predict future values."
   ]
  },
  {
   "cell_type": "raw",
   "id": "3a9d56eb",
   "metadata": {},
   "source": [
    "slope(m)=m_numerator/m_denominator\n",
    "        =np.sum((x_i-x_mean)(y_i)-y_mean)/np.sum((x_i-x_mean)**2\n",
    "                                                 \n",
    "and ,Intercept (b)= (y_mean-m*x_mean)                                               "
   ]
  },
  {
   "cell_type": "raw",
   "id": "1657da01",
   "metadata": {},
   "source": [
    "Here, m and b will be determined on the basis of trained data."
   ]
  },
  {
   "cell_type": "code",
   "execution_count": 3,
   "id": "2b53bee6",
   "metadata": {},
   "outputs": [],
   "source": [
    "def simple_ols(x_train,y_train):\n",
    "    \n",
    "    x_bar=np.mean(x_train)\n",
    "    y_bar=np.mean(y_train)\n",
    "    m_nume = np.sum((x_train - x_bar) * (y_train - y_bar))\n",
    "    m_denom = np.sum((x_train - x_bar)**2)\n",
    "    \n",
    "    m = m_nume / m_denom\n",
    "    b = y_bar - m * x_bar\n",
    "    \n",
    "    return m, b\n",
    "\n",
    "def predict_value(x_test, m, b):\n",
    "    return m * x_test + b\n"
   ]
  },
  {
   "cell_type": "code",
   "execution_count": 4,
   "id": "32fb3f1e",
   "metadata": {},
   "outputs": [
    {
     "data": {
      "text/html": [
       "<div>\n",
       "<style scoped>\n",
       "    .dataframe tbody tr th:only-of-type {\n",
       "        vertical-align: middle;\n",
       "    }\n",
       "\n",
       "    .dataframe tbody tr th {\n",
       "        vertical-align: top;\n",
       "    }\n",
       "\n",
       "    .dataframe thead th {\n",
       "        text-align: right;\n",
       "    }\n",
       "</style>\n",
       "<table border=\"1\" class=\"dataframe\">\n",
       "  <thead>\n",
       "    <tr style=\"text-align: right;\">\n",
       "      <th></th>\n",
       "      <th>study_hr</th>\n",
       "      <th>score</th>\n",
       "    </tr>\n",
       "  </thead>\n",
       "  <tbody>\n",
       "    <tr>\n",
       "      <th>0</th>\n",
       "      <td>3</td>\n",
       "      <td>75</td>\n",
       "    </tr>\n",
       "    <tr>\n",
       "      <th>1</th>\n",
       "      <td>5</td>\n",
       "      <td>82</td>\n",
       "    </tr>\n",
       "    <tr>\n",
       "      <th>2</th>\n",
       "      <td>2</td>\n",
       "      <td>69</td>\n",
       "    </tr>\n",
       "    <tr>\n",
       "      <th>3</th>\n",
       "      <td>7</td>\n",
       "      <td>88</td>\n",
       "    </tr>\n",
       "    <tr>\n",
       "      <th>4</th>\n",
       "      <td>4</td>\n",
       "      <td>78</td>\n",
       "    </tr>\n",
       "  </tbody>\n",
       "</table>\n",
       "</div>"
      ],
      "text/plain": [
       "   study_hr  score\n",
       "0         3     75\n",
       "1         5     82\n",
       "2         2     69\n",
       "3         7     88\n",
       "4         4     78"
      ]
     },
     "execution_count": 4,
     "metadata": {},
     "output_type": "execute_result"
    }
   ],
   "source": [
    "data.head()"
   ]
  },
  {
   "cell_type": "code",
   "execution_count": 5,
   "id": "fec034a5",
   "metadata": {},
   "outputs": [],
   "source": [
    "x=data[\"study_hr\"]\n",
    "y=data[\"score\"]"
   ]
  },
  {
   "cell_type": "code",
   "execution_count": 6,
   "id": "49ac1b9b",
   "metadata": {},
   "outputs": [],
   "source": [
    "x_train,x_test,y_train,y_test=train_test_split(x,y, test_size=0.3)"
   ]
  },
  {
   "cell_type": "code",
   "execution_count": 7,
   "id": "284bc997",
   "metadata": {},
   "outputs": [
    {
     "data": {
      "text/plain": [
       "(8    5\n",
       " 2    2\n",
       " 1    5\n",
       " 5    6\n",
       " 9    4\n",
       " 7    3\n",
       " 3    7\n",
       " Name: study_hr, dtype: int64,\n",
       " 8    80\n",
       " 2    69\n",
       " 1    82\n",
       " 5    85\n",
       " 9    76\n",
       " 7    72\n",
       " 3    88\n",
       " Name: score, dtype: int64)"
      ]
     },
     "execution_count": 7,
     "metadata": {},
     "output_type": "execute_result"
    }
   ],
   "source": [
    "x_train,y_train"
   ]
  },
  {
   "cell_type": "code",
   "execution_count": 8,
   "id": "04541c43",
   "metadata": {},
   "outputs": [
    {
     "data": {
      "text/plain": [
       "((7,), (7,))"
      ]
     },
     "execution_count": 8,
     "metadata": {},
     "output_type": "execute_result"
    }
   ],
   "source": [
    "x_train.shape,y_train.shape"
   ]
  },
  {
   "cell_type": "code",
   "execution_count": 9,
   "id": "faf302d0",
   "metadata": {},
   "outputs": [
    {
     "data": {
      "text/plain": [
       "(6    1\n",
       " 0    3\n",
       " 4    4\n",
       " Name: study_hr, dtype: int64,\n",
       " 6    62\n",
       " 0    75\n",
       " 4    78\n",
       " Name: score, dtype: int64)"
      ]
     },
     "execution_count": 9,
     "metadata": {},
     "output_type": "execute_result"
    }
   ],
   "source": [
    "x_test,y_test"
   ]
  },
  {
   "cell_type": "code",
   "execution_count": 10,
   "id": "19c83262",
   "metadata": {},
   "outputs": [
    {
     "name": "stdout",
     "output_type": "stream",
     "text": [
      "slope of line: 3.983870967741935\n",
      "Intercept of line: 60.64516129032259\n"
     ]
    }
   ],
   "source": [
    "## Now, let's call the function\n",
    "\n",
    "m,b=simple_ols(x_train,y_train)\n",
    "print(\"slope of line:\", m)\n",
    "print(\"Intercept of line:\",b)"
   ]
  },
  {
   "cell_type": "code",
   "execution_count": 11,
   "id": "0d110e6d",
   "metadata": {},
   "outputs": [
    {
     "name": "stdout",
     "output_type": "stream",
     "text": [
      "Predicted_score : \n",
      " 6    64.629032\n",
      "0    72.596774\n",
      "4    76.580645\n",
      "Name: study_hr, dtype: float64\n"
     ]
    }
   ],
   "source": [
    "predicted_score=predict_value(x_test, m, b)\n",
    "print(\"Predicted_score : \\n\",predicted_score)"
   ]
  },
  {
   "cell_type": "code",
   "execution_count": 12,
   "id": "1003d59a",
   "metadata": {},
   "outputs": [
    {
     "data": {
      "text/plain": [
       "6    62\n",
       "0    75\n",
       "4    78\n",
       "Name: score, dtype: int64"
      ]
     },
     "execution_count": 12,
     "metadata": {},
     "output_type": "execute_result"
    }
   ],
   "source": [
    "y_test"
   ]
  },
  {
   "cell_type": "code",
   "execution_count": null,
   "id": "2eda0d49",
   "metadata": {},
   "outputs": [],
   "source": []
  },
  {
   "cell_type": "code",
   "execution_count": null,
   "id": "b0744288",
   "metadata": {},
   "outputs": [],
   "source": []
  },
  {
   "cell_type": "code",
   "execution_count": null,
   "id": "578b4e67",
   "metadata": {},
   "outputs": [],
   "source": []
  },
  {
   "cell_type": "code",
   "execution_count": null,
   "id": "40501940",
   "metadata": {},
   "outputs": [],
   "source": []
  },
  {
   "cell_type": "code",
   "execution_count": null,
   "id": "7c569a35",
   "metadata": {},
   "outputs": [],
   "source": []
  },
  {
   "cell_type": "code",
   "execution_count": null,
   "id": "f1672b5d",
   "metadata": {},
   "outputs": [],
   "source": []
  },
  {
   "cell_type": "code",
   "execution_count": null,
   "id": "e732d0bf",
   "metadata": {},
   "outputs": [],
   "source": []
  }
 ],
 "metadata": {
  "kernelspec": {
   "display_name": "Python 3 (ipykernel)",
   "language": "python",
   "name": "python3"
  },
  "language_info": {
   "codemirror_mode": {
    "name": "ipython",
    "version": 3
   },
   "file_extension": ".py",
   "mimetype": "text/x-python",
   "name": "python",
   "nbconvert_exporter": "python",
   "pygments_lexer": "ipython3",
   "version": "3.9.7"
  }
 },
 "nbformat": 4,
 "nbformat_minor": 5
}
